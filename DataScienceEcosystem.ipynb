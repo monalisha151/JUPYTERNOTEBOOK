{
 "cells": [
  {
   "cell_type": "markdown",
   "id": "17afe0a4-3d04-4679-add0-03325e1cf5c7",
   "metadata": {},
   "source": [
    "# Data Science Tools and Ecosystem"
   ]
  },
  {
   "cell_type": "markdown",
   "id": "4147c13a-ba33-4612-a62f-096475851f0a",
   "metadata": {},
   "source": [
    "In this notebook, Data Science Tools and Ecosystem are summarized."
   ]
  },
  {
   "cell_type": "markdown",
   "id": "a15ce87a-1736-455e-8e98-01a77721051b",
   "metadata": {},
   "source": [
    "**Objectives:**\n",
    "\n",
    "- List popular languages for Data Science\n",
    "- Explore commonly used libraries in Data Science\n",
    "- Understand how to evaluate arithmetic expressions in Python\n",
    "- Learn how to use Jupyter Notebook for data science tasks\n",
    "- Convert units (e.g., minutes to hours) using Python expressions\n"
   ]
  },
  {
   "cell_type": "markdown",
   "id": "534ea1a8-2815-4ce4-86e3-7f6413eae731",
   "metadata": {},
   "source": [
    "Some of the popular languages that Data Scientists use are:\n",
    "1.Python\n",
    "2.R\n",
    "3.SQL\n",
    "4.Julia\n",
    "5.Scala "
   ]
  },
  {
   "cell_type": "markdown",
   "id": "968c2784-1209-4d69-bc54-4e5353179060",
   "metadata": {},
   "source": [
    "Some of the commonly used libraries used by Data Scientists include:\n",
    "1.Python Libraries:\n",
    "  .Pandas\n",
    "  .Numpy\n",
    "  .Matplotlib\n",
    "  .dask\n",
    "  .seaborn\n",
    "  .plotly\n",
    "  .scikit-learn\n",
    "  .tensorflow\n",
    "  .statsmodels\n",
    "  .scipy \n",
    "  and manymore\n",
    "2.R libraries:\n",
    "  .dplyr\n",
    "  .tidyr\n",
    "  .caret\n",
    "  .data.table\n",
    "  .ggplot.2\n",
    "  .shiny\n",
    "  .mlr3\n",
    "3.SQL Libraries"
   ]
  },
  {
   "cell_type": "markdown",
   "id": "5533f7cf-5691-4833-9604-906afcf2d17e",
   "metadata": {},
   "source": [
    "| Data Science Tools       |\n",
    "|--------------------------|\n",
    "| Jupyter Notebook         |\n",
    "| RStudio                  |\n",
    "| Apache Zeppelin          |\n"
   ]
  },
  {
   "cell_type": "markdown",
   "id": "6fb4b06f-060f-4ca9-b318-7e4725c72505",
   "metadata": {},
   "source": [
    "### Below are a few examples of evaluating arithmetic expressions in Python:\n",
    "# Addition\n",
    "result = 5 + 3\n",
    "print(\"Addition: 5 + 3 =\", result)\n",
    "\n",
    "# Subtraction\n",
    "result = 10 - 4\n",
    "print(\"Subtraction: 10 - 4 =\", result)\n",
    "\n",
    "# Multiplication\n",
    "result = 6 * 7\n",
    "print(\"Multiplication: 6 * 7 =\", result)\n",
    "\n",
    "# Division\n",
    "result = 15 / 3\n",
    "print(\"Division: 15 / 3 =\", result)\n"
   ]
  },
  {
   "cell_type": "code",
   "execution_count": 1,
   "id": "cc403594-0ddc-412f-b001-678f5db686f9",
   "metadata": {},
   "outputs": [
    {
     "data": {
      "text/plain": [
       "17"
      ]
     },
     "execution_count": 1,
     "metadata": {},
     "output_type": "execute_result"
    }
   ],
   "source": [
    "#This a simple arithmetic expression to mutiply then add integers.\n",
    "(3*4)+5"
   ]
  },
  {
   "cell_type": "code",
   "execution_count": 2,
   "id": "d1035e14-763b-40ac-8615-01f2dd08c36c",
   "metadata": {},
   "outputs": [
    {
     "name": "stdout",
     "output_type": "stream",
     "text": [
      "200 minutes is equal to 3.3333333333333335 hours\n"
     ]
    }
   ],
   "source": [
    "#This will convert 200 minutes to hours by diving by 60.\n",
    "\n",
    "minutes = 200\n",
    "hours = minutes / 60\n",
    "print(\"200 minutes is equal to\", hours, \"hours\")\n"
   ]
  },
  {
   "cell_type": "markdown",
   "id": "df156dd8-73db-4342-adde-9a1e98f987f4",
   "metadata": {},
   "source": [
    "## Author\n",
    "name:MONALISHA PRIYADARSHINI"
   ]
  }
 ],
 "metadata": {
  "kernelspec": {
   "display_name": "Python 3 (ipykernel)",
   "language": "python",
   "name": "python3"
  },
  "language_info": {
   "codemirror_mode": {
    "name": "ipython",
    "version": 3
   },
   "file_extension": ".py",
   "mimetype": "text/x-python",
   "name": "python",
   "nbconvert_exporter": "python",
   "pygments_lexer": "ipython3",
   "version": "3.11.9"
  }
 },
 "nbformat": 4,
 "nbformat_minor": 5
}
